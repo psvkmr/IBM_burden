{
 "cells": [
  {
   "cell_type": "code",
   "execution_count": 2,
   "metadata": {},
   "outputs": [],
   "source": [
    "import pandas as pd\n",
    "import re\n",
    "import os\n",
    "os.chdir(\"I:/psivakumar/other/akhan/\")"
   ]
  },
  {
   "cell_type": "markdown",
   "metadata": {},
   "source": [
    "Alaa sample sheet"
   ]
  },
  {
   "cell_type": "code",
   "execution_count": 13,
   "metadata": {},
   "outputs": [],
   "source": [
    "samples = pd.read_csv(\"tmp1_samples.txt\", header=None)"
   ]
  },
  {
   "cell_type": "markdown",
   "metadata": {},
   "source": [
    "Total number of samples"
   ]
  },
  {
   "cell_type": "code",
   "execution_count": 8,
   "metadata": {},
   "outputs": [
    {
     "name": "stdout",
     "output_type": "stream",
     "text": [
      "918\n"
     ]
    }
   ],
   "source": [
    "print(len(samples))"
   ]
  },
  {
   "cell_type": "markdown",
   "metadata": {},
   "source": [
    "Samples not contaminated (freemix >= 0.03)"
   ]
  },
  {
   "cell_type": "code",
   "execution_count": 10,
   "metadata": {},
   "outputs": [],
   "source": [
    "samples_not_cont = pd.read_csv(\"notContaminatedToKeep.txt\", header=None)"
   ]
  },
  {
   "cell_type": "code",
   "execution_count": 11,
   "metadata": {},
   "outputs": [
    {
     "name": "stdout",
     "output_type": "stream",
     "text": [
      "869\n"
     ]
    }
   ],
   "source": [
    "print(len(samples_not_cont))"
   ]
  },
  {
   "cell_type": "code",
   "execution_count": 18,
   "metadata": {},
   "outputs": [],
   "source": [
    "new_fam = pd.read_csv(\"akhan_1_plink.fam\", header=None, sep='\\t')"
   ]
  },
  {
   "cell_type": "markdown",
   "metadata": {},
   "source": [
    "Number of cases"
   ]
  },
  {
   "cell_type": "code",
   "execution_count": 25,
   "metadata": {},
   "outputs": [
    {
     "data": {
      "text/plain": [
       "370"
      ]
     },
     "execution_count": 25,
     "metadata": {},
     "output_type": "execute_result"
    }
   ],
   "source": [
    "len(new_fam[new_fam[5]==2])"
   ]
  },
  {
   "cell_type": "markdown",
   "metadata": {},
   "source": [
    "Number of controls"
   ]
  },
  {
   "cell_type": "code",
   "execution_count": 27,
   "metadata": {},
   "outputs": [
    {
     "data": {
      "text/plain": [
       "499"
      ]
     },
     "execution_count": 27,
     "metadata": {},
     "output_type": "execute_result"
    }
   ],
   "source": [
    "len(new_fam[new_fam[5]==1])"
   ]
  },
  {
   "cell_type": "markdown",
   "metadata": {},
   "source": [
    "Istats outliers removed (in alt counts, het counts, singletons, ti/tv)"
   ]
  },
  {
   "cell_type": "code",
   "execution_count": 40,
   "metadata": {},
   "outputs": [
    {
     "name": "stdout",
     "output_type": "stream",
     "text": [
      "1661102 variants loaded from .bim file.\n",
      "\n",
      "869 people (552 males, 299 females, 18 ambiguous) loaded from .fam.\n",
      "\n",
      "--remove: 848 people remaining.\n",
      "\n",
      "1661102 variants and 848 people pass filters and QC.\n",
      "\n"
     ]
    }
   ],
   "source": [
    "with open(\"akhan_2_istatsOutliers.log\", \"r\") as f:\n",
    "    for line in f.readlines():\n",
    "        if 'variant' in line or 'sample' in line or 'people' in line:\n",
    "            print(line)"
   ]
  },
  {
   "cell_type": "code",
   "execution_count": 33,
   "metadata": {},
   "outputs": [],
   "source": [
    "istats_outs = pd.read_csv(\"istats_outliers_to_remove.txt\", header=None, sep='\\t')"
   ]
  },
  {
   "cell_type": "code",
   "execution_count": 35,
   "metadata": {},
   "outputs": [
    {
     "name": "stdout",
     "output_type": "stream",
     "text": [
      "                                  0        1\n",
      "0              hhoulden-IONNG-81455  LI17636\n",
      "1              hhoulden-IONNG-83106  LI17661\n",
      "2             hhoulden-UOM-PMDM1024  LI17695\n",
      "3        Sample_hhoulden_UOSP_76588   LI1926\n",
      "4   Sample_hhoulden_IONDMN_D7106322   LI2068\n",
      "5   Sample_hhoulden_IONDMN_E0257030   LI2070\n",
      "6                        MIAMI-2841   LI4264\n",
      "7                            OA0045   LI4308\n",
      "8                            OA0213   LI4309\n",
      "9                            OA0306   LI4310\n",
      "10                           OA0309   LI4311\n",
      "11                           OA0708   LI4315\n",
      "12                           OA0736   LI4317\n",
      "13                           OA0748   LI4318\n",
      "14                           OA1013   LI4322\n",
      "15                       UMARY-1365   LI4445\n",
      "16       Sample_hhoulden_UCLA_Sh108    LI455\n",
      "17                       UMARY-4545   LI4551\n",
      "18       Sample_hhoulden_UCLA_Sh216    LI459\n",
      "19                       UMARY-5125   LI4599\n",
      "20     Sample_hhoulden_UOOX_SH10_03    LI569\n"
     ]
    }
   ],
   "source": [
    "print(istats_outs)"
   ]
  },
  {
   "cell_type": "markdown",
   "metadata": {},
   "source": [
    "Low call rate variants removed"
   ]
  },
  {
   "cell_type": "code",
   "execution_count": 52,
   "metadata": {},
   "outputs": [
    {
     "name": "stdout",
     "output_type": "stream",
     "text": [
      "1661102 variants loaded from .bim file.\n",
      "\n",
      "848 people (538 males, 292 females, 18 ambiguous) loaded from .fam.\n",
      "\n",
      "910535 variants removed due to missing genotype data (--geno).\n",
      "\n",
      "750567 variants and 848 people pass filters and QC.\n",
      "\n",
      "Among remaining phenotypes, 361 are cases and 487 are controls.\n",
      "\n"
     ]
    }
   ],
   "source": [
    "with open(\"akhan_3_snps98.log\", \"r\") as f:\n",
    "    for line in f.readlines():\n",
    "        if 'variant' in line or 'sample' in line or 'people' in line or 'cases' in line:\n",
    "            print(line)"
   ]
  },
  {
   "cell_type": "markdown",
   "metadata": {},
   "source": [
    "High missingness samples removed"
   ]
  },
  {
   "cell_type": "code",
   "execution_count": 53,
   "metadata": {},
   "outputs": [
    {
     "name": "stdout",
     "output_type": "stream",
     "text": [
      "750567 variants loaded from .bim file.\n",
      "\n",
      "848 people (538 males, 292 females, 18 ambiguous) loaded from .fam.\n",
      "\n",
      "37 people removed due to missing genotype data (--mind).\n",
      "\n",
      "750567 variants and 811 people pass filters and QC.\n",
      "\n",
      "Among remaining phenotypes, 342 are cases and 469 are controls.\n",
      "\n"
     ]
    }
   ],
   "source": [
    "with open(\"akhan_4_ind98.log\", \"r\") as f:\n",
    "    for line in f.readlines():\n",
    "        if 'variant' in line or 'sample' in line or 'people' in line or 'cases' in line:\n",
    "            print(line)"
   ]
  },
  {
   "cell_type": "markdown",
   "metadata": {},
   "source": [
    "Het outliers removed"
   ]
  },
  {
   "cell_type": "code",
   "execution_count": 54,
   "metadata": {},
   "outputs": [
    {
     "name": "stdout",
     "output_type": "stream",
     "text": [
      "750567 variants loaded from .bim file.\n",
      "\n",
      "811 people (509 males, 284 females, 18 ambiguous) loaded from .fam.\n",
      "\n",
      "--remove: 809 people remaining.\n",
      "\n",
      "750567 variants and 809 people pass filters and QC.\n",
      "\n",
      "Among remaining phenotypes, 340 are cases and 469 are controls.\n",
      "\n"
     ]
    }
   ],
   "source": [
    "with open(\"akhan_5_noHetOutliers.log\", \"r\") as f:\n",
    "    for line in f.readlines():\n",
    "        if 'variant' in line or 'sample' in line or 'people' in line or 'cases' in line:\n",
    "            print(line)"
   ]
  },
  {
   "cell_type": "markdown",
   "metadata": {},
   "source": [
    "Related removed"
   ]
  },
  {
   "cell_type": "code",
   "execution_count": 55,
   "metadata": {},
   "outputs": [
    {
     "name": "stdout",
     "output_type": "stream",
     "text": [
      "507288 variants loaded from .bim file.\n",
      "\n",
      "809 people (507 males, 284 females, 18 ambiguous) loaded from .fam.\n",
      "\n",
      "--remove: 774 people remaining.\n",
      "\n",
      "507288 variants and 774 people pass filters and QC.\n",
      "\n",
      "Among remaining phenotypes, 306 are cases and 468 are controls.\n",
      "\n"
     ]
    }
   ],
   "source": [
    "with open(\"akhan_7_unrelated.log\", \"r\") as f:\n",
    "    for line in f.readlines():\n",
    "        if 'variant' in line or 'sample' in line or 'people' in line or 'cases' in line:\n",
    "            print(line)"
   ]
  },
  {
   "cell_type": "code",
   "execution_count": 36,
   "metadata": {},
   "outputs": [],
   "source": [
    "rel_s = pd.read_csv(\"related_to_remove.txt\", header=None, sep='\\t')"
   ]
  },
  {
   "cell_type": "code",
   "execution_count": 38,
   "metadata": {},
   "outputs": [
    {
     "name": "stdout",
     "output_type": "stream",
     "text": [
      "                                  0        1\n",
      "0             hhoulden-EXT-NUAMS_A3  LI17623\n",
      "1              hhoulden-IONNG-82571  LI17653\n",
      "2              hhoulden-IONNG-82572  LI17654\n",
      "3              hhoulden-IONNG-82575  LI17657\n",
      "4              hhoulden-IONNG-82577  LI17659\n",
      "5              hhoulden-IONNG-83414  LI17663\n",
      "6              hhoulden-IONNG-86077  LI17670\n",
      "7              hhoulden-IONNG-86083  LI17675\n",
      "8             hhoulden-UOM-PMDM1002  LI17678\n",
      "9             hhoulden-UOM-PMDM1050  LI17696\n",
      "10       Sample_hhoulden_UOOX_65977   LI1865\n",
      "11      Sample_hhoulden_IONNG_66828   LI1921\n",
      "12       Sample_hhoulden_UOSP_76586   LI1924\n",
      "13      Sample_hhoulden_IONNG_77473   LI1987\n",
      "14  Sample_hhoulden_IONDMN_G4164342   LI2073\n",
      "15  Sample_hhoulden_IONDMN_J7361043   LI2075\n",
      "16  Sample_hhoulden_IONDMN_L0382513   LI2076\n",
      "17      Sample_hhoulden_IONNG_9_536   LI2081\n",
      "18                            08_55   LI4181\n",
      "19       Sample_hhoulden_IOOX_62150    LI547\n",
      "20       Sample_hhoulden_IOOX_62152    LI549\n",
      "21       Sample_hhoulden_IOOX_62191    LI552\n",
      "22       Sample_hhoulden_UOOX_62271    LI554\n",
      "23       Sample_hhoulden_IOOX_62432    LI556\n",
      "24       Sample_hhoulden_IOOX_62593    LI557\n",
      "25       Sample_hhoulden_IOOX_62675    LI558\n",
      "26       Sample_hhoulden_IOOX_62676    LI559\n",
      "27       Sample_hhoulden_IOOX_63459    LI563\n",
      "28       Sample_hhoulden_IOOX_67577    LI567\n",
      "29       Sample_hhoulden_IOOX_67303    LI568\n",
      "30     Sample_hhoulden_IONDMN_66417    LI620\n",
      "31    Sample_hhoulden_IONNG_10_0060   LI6205\n",
      "32     Sample_hhoulden_IONNG_11_543   LI6209\n",
      "33       Sample_hhoulden_UOOX_59014    LI621\n",
      "34     Sample_hhoulden_IONNG_11_601   LI6210\n"
     ]
    }
   ],
   "source": [
    "print(rel_s)"
   ]
  },
  {
   "cell_type": "markdown",
   "metadata": {},
   "source": [
    "Sex ambiguous removed"
   ]
  },
  {
   "cell_type": "code",
   "execution_count": 56,
   "metadata": {},
   "outputs": [
    {
     "name": "stdout",
     "output_type": "stream",
     "text": [
      "507288 variants loaded from .bim file.\n",
      "\n",
      "774 people (487 males, 270 females, 17 ambiguous) loaded from .fam.\n",
      "\n",
      "507288 variants and 774 people pass filters and QC.\n",
      "\n",
      "Among remaining phenotypes, 306 are cases and 468 are controls.\n",
      "\n",
      "--impute-sex: 8490 Xchr and 0 Ychr variant(s) scanned, 764/774 sexes imputed.\n",
      "\n"
     ]
    }
   ],
   "source": [
    "with open(\"akhan_8_sex_checked.log\", \"r\") as f:\n",
    "    for line in f.readlines():\n",
    "        if 'variant' in line or 'sample' in line or 'people' in line or 'cases' in line:\n",
    "            print(line)"
   ]
  },
  {
   "cell_type": "markdown",
   "metadata": {},
   "source": [
    "Population stratification removed"
   ]
  },
  {
   "cell_type": "code",
   "execution_count": 57,
   "metadata": {},
   "outputs": [
    {
     "name": "stdout",
     "output_type": "stream",
     "text": [
      "--vcf: 507288 variants scanned.\n",
      "\n",
      "749 samples (0 females, 0 males, 749 ambiguous; 749 founders) loaded from\n",
      "\n",
      "507288 variants loaded from akhan_9_european-temporary.pvar.\n",
      "\n"
     ]
    }
   ],
   "source": [
    "with open(\"akhan_9_european.log\", \"r\") as f:\n",
    "    for line in f.readlines():\n",
    "        if 'variant' in line or 'sample' in line or 'people' in line or 'cases' in line:\n",
    "            print(line)"
   ]
  },
  {
   "cell_type": "markdown",
   "metadata": {},
   "source": [
    "PCA outliers removed"
   ]
  },
  {
   "cell_type": "code",
   "execution_count": 51,
   "metadata": {},
   "outputs": [
    {
     "name": "stdout",
     "output_type": "stream",
     "text": [
      "8 arguments: --allow-extra-chr --bfile akhan_9_european --make-bed --out akhan_10_pca_cleaned --remove pca_samples_to_remove.txt\n",
      "\n",
      "507288 variants loaded from .bim file.\n",
      "\n",
      "749 people (0 males, 0 females, 749 ambiguous) loaded from .fam.\n",
      "\n",
      "--remove: 749 people remaining.\n",
      "\n",
      "507288 variants and 749 people pass filters and QC.\n",
      "\n"
     ]
    }
   ],
   "source": [
    "with open(\"akhan_10_pca_cleaned.log\", \"r\") as f:\n",
    "    for line in f.readlines():\n",
    "        if 'variant' in line or 'sample' in line or 'people' in line:\n",
    "            print(line) "
   ]
  }
 ],
 "metadata": {
  "kernelspec": {
   "display_name": "Python 3",
   "language": "python",
   "name": "python3"
  },
  "language_info": {
   "codemirror_mode": {
    "name": "ipython",
    "version": 3
   },
   "file_extension": ".py",
   "mimetype": "text/x-python",
   "name": "python",
   "nbconvert_exporter": "python",
   "pygments_lexer": "ipython3",
   "version": "3.7.4"
  }
 },
 "nbformat": 4,
 "nbformat_minor": 2
}
